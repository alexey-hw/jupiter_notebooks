{
 "cells": [
  {
   "cell_type": "markdown",
   "source": [
    "# MNIST number classification using PyTorch with CUDA\n",
    "This jupyter notebook provides code for solving handwritten number classification problem.\n",
    "Model is trained on the GPU using CUDA precompiled binaries for the PyTorch library."
   ],
   "metadata": {
    "collapsed": false
   }
  },
  {
   "cell_type": "markdown",
   "source": [
    "Preparing all the necessary imports"
   ],
   "metadata": {
    "collapsed": false
   }
  },
  {
   "cell_type": "code",
   "execution_count": 1,
   "outputs": [],
   "source": [
    "import matplotlib.pyplot as plt\n",
    "%matplotlib inline\n",
    "\n",
    "import torch\n",
    "import torch.nn as nn\n",
    "from torch.utils.data import DataLoader\n",
    "\n",
    "import torchvision\n",
    "import torchvision.transforms as transforms"
   ],
   "metadata": {
    "collapsed": false
   }
  },
  {
   "cell_type": "markdown",
   "source": [
    "Check if CUDA device is available for the PyTorch"
   ],
   "metadata": {
    "collapsed": false
   }
  },
  {
   "cell_type": "code",
   "execution_count": 2,
   "outputs": [
    {
     "name": "stdout",
     "output_type": "stream",
     "text": [
      "Using CUDA precompiled version of PyTorch\n"
     ]
    }
   ],
   "source": [
    "if torch.cuda.is_available():\n",
    "    print(\"Using CUDA precompiled version of PyTorch\")\n",
    "else:\n",
    "    print(\"Using CPU precompiled version of PyTorch\")\n",
    "\n",
    "device = torch.device('cuda:0' if torch.cuda.is_available() else 'cpu')"
   ],
   "metadata": {
    "collapsed": false
   }
  },
  {
   "cell_type": "markdown",
   "source": [
    "Prepare transformation for DataLoader. Transformation converts image to a PyTorch tensor and normalizes data points."
   ],
   "metadata": {
    "collapsed": false
   }
  },
  {
   "cell_type": "code",
   "execution_count": 3,
   "outputs": [],
   "source": [
    "transformator = transforms.Compose([transforms.ToTensor(), transforms.Normalize(0.5, 0.5)])"
   ],
   "metadata": {
    "collapsed": false
   }
  },
  {
   "cell_type": "markdown",
   "source": [
    "Load train and test datasets"
   ],
   "metadata": {
    "collapsed": false
   }
  },
  {
   "cell_type": "code",
   "execution_count": 4,
   "outputs": [
    {
     "name": "stdout",
     "output_type": "stream",
     "text": [
      "Number of training images: 60000\n"
     ]
    }
   ],
   "source": [
    "train_data = torchvision.datasets.MNIST(\"data\", train=True, download=True, transform=transformator)\n",
    "train_data_loader = DataLoader(train_data, batch_size=64, shuffle=True, pin_memory=True)\n",
    "train_data_iter = iter(train_data_loader)\n",
    "len(train_data)\n",
    "print(\"Number of training images: \" + str(len(train_data)))"
   ],
   "metadata": {
    "collapsed": false
   }
  },
  {
   "cell_type": "code",
   "execution_count": 5,
   "outputs": [
    {
     "name": "stdout",
     "output_type": "stream",
     "text": [
      "Number of test images: 10000\n"
     ]
    }
   ],
   "source": [
    "test_data = torchvision.datasets.MNIST(\"data\", train=False, download=True, transform=transformator)\n",
    "test_data_loader = DataLoader(test_data, batch_size=64, shuffle=False, pin_memory=True)\n",
    "test_data_iter = iter(test_data_loader)\n",
    "print(\"Number of test images: \" + str(len(test_data)))"
   ],
   "metadata": {
    "collapsed": false
   }
  },
  {
   "cell_type": "markdown",
   "source": [
    "Check the data"
   ],
   "metadata": {
    "collapsed": false
   }
  },
  {
   "cell_type": "code",
   "execution_count": 6,
   "outputs": [
    {
     "name": "stdout",
     "output_type": "stream",
     "text": [
      "Dimension of the image batch torch.Size([64, 1, 28, 28])\n",
      "Dimension of the label batch torch.Size([64])\n",
      "Label for the image below: 3\n"
     ]
    },
    {
     "data": {
      "text/plain": "<matplotlib.image.AxesImage at 0x20aa7206800>"
     },
     "execution_count": 6,
     "metadata": {},
     "output_type": "execute_result"
    },
    {
     "data": {
      "text/plain": "<Figure size 640x480 with 1 Axes>",
      "image/png": "[encoded data removed]"
     },
     "metadata": {},
     "output_type": "display_data"
    }
   ],
   "source": [
    "transformed_images, labels = next(train_data_iter)\n",
    "print(\"Dimension of the image batch \" + str(transformed_images.shape))\n",
    "print(\"Dimension of the label batch \" + str(labels.shape))\n",
    "print(\"Label for the image below: \" + str(labels.numpy()[0]))\n",
    "plt.imshow(transformed_images[0][0].numpy(), cmap='gray_r')"
   ],
   "metadata": {
    "collapsed": false
   }
  },
  {
   "cell_type": "code",
   "execution_count": 7,
   "outputs": [
    {
     "name": "stdout",
     "output_type": "stream",
     "text": [
      "Dimension of the image batch torch.Size([64, 1, 28, 28])\n",
      "Dimension of the label batch torch.Size([64])\n",
      "Label for the image below: 7\n"
     ]
    },
    {
     "data": {
      "text/plain": "<matplotlib.image.AxesImage at 0x20aa930e7a0>"
     },
     "execution_count": 7,
     "metadata": {},
     "output_type": "execute_result"
    },
    {
     "data": {
      "text/plain": "<Figure size 640x480 with 1 Axes>",
      "image/png": "[encoded data removed]"
     },
     "metadata": {},
     "output_type": "display_data"
    }
   ],
   "source": [
    "transformed_images, labels = next(test_data_iter)\n",
    "print(\"Dimension of the image batch \" + str(transformed_images.shape))\n",
    "print(\"Dimension of the label batch \" + str(labels.shape))\n",
    "print(\"Label for the image below: \" + str(labels.numpy()[0]))\n",
    "plt.imshow(transformed_images[0][0].numpy(), cmap='gray_r')"
   ],
   "metadata": {
    "collapsed": false
   }
  },
  {
   "cell_type": "code",
   "execution_count": 8,
   "outputs": [],
   "source": [
    "model = nn.Sequential(\n",
    "    nn.Linear(28 * 28, 128),\n",
    "    nn.ReLU(),\n",
    "    nn.Linear(128, 64),\n",
    "    nn.ReLU(),\n",
    "    nn.Linear(64, 10),\n",
    "    nn.LogSoftmax(dim=1)\n",
    ").to(device)"
   ],
   "metadata": {
    "collapsed": false
   }
  },
  {
   "cell_type": "markdown",
   "source": [
    "Training the model"
   ],
   "metadata": {
    "collapsed": false
   }
  },
  {
   "cell_type": "code",
   "execution_count": 9,
   "outputs": [
    {
     "name": "stdout",
     "output_type": "stream",
     "text": [
      "running epoch #0\n",
      "running epoch #1\n",
      "running epoch #2\n",
      "running epoch #3\n",
      "running epoch #4\n",
      "running epoch #5\n",
      "running epoch #6\n",
      "running epoch #7\n",
      "running epoch #8\n",
      "running epoch #9\n",
      "running epoch #10\n",
      "running epoch #11\n",
      "running epoch #12\n",
      "running epoch #13\n",
      "running epoch #14\n",
      "running epoch #15\n",
      "running epoch #16\n",
      "running epoch #17\n",
      "running epoch #18\n",
      "running epoch #19\n",
      "CPU times: total: 28min 11s\n",
      "Wall time: 4min 48s\n"
     ]
    }
   ],
   "source": [
    "%%time\n",
    "calculate_loss = nn.NLLLoss().to(device)\n",
    "optimizer = torch.optim.SGD(model.parameters(), lr=0.003, momentum=0.9)\n",
    "for i in range(20):\n",
    "    print(\"running epoch #\" + str(i))\n",
    "    for images, labels in train_data_loader:\n",
    "        output_labels = model(images.view(images.shape[0], -1).to(device))\n",
    "        optimizer.zero_grad()\n",
    "        loss = calculate_loss(output_labels, labels.to(device))\n",
    "        loss.backward()\n",
    "        optimizer.step()\n"
   ],
   "metadata": {
    "collapsed": false
   }
  },
  {
   "cell_type": "markdown",
   "source": [
    "Testing the model with test data"
   ],
   "metadata": {
    "collapsed": false
   }
  },
  {
   "cell_type": "code",
   "execution_count": 10,
   "outputs": [
    {
     "name": "stdout",
     "output_type": "stream",
     "text": [
      "Model Accuracy = 0.9768\n",
      "Number of correct predictions for each class: [967, 1126, 1005, 979, 954, 876, 940, 999, 935, 987]\n",
      "Number of incorrect predictions for each class:[13, 9, 27, 31, 28, 16, 18, 29, 39, 22]\n"
     ]
    }
   ],
   "source": [
    "correct_predictions = [0] * 10\n",
    "incorrect_predictions = [0] * 10\n",
    "correct_count, all_count = 0, 0\n",
    "\n",
    "for images,labels in test_data_loader:\n",
    "    for i in range(len(labels)):\n",
    "        img = images[i].view(1, 28 * 28).to(device)\n",
    "        with torch.no_grad():\n",
    "            log_prob = model(img)\n",
    "        probabilities = list(torch.exp(log_prob).cpu().numpy()[0])\n",
    "        predicted_label = probabilities.index(max(probabilities))\n",
    "        true_label = labels.numpy()[i]\n",
    "        if true_label == predicted_label:\n",
    "            correct_predictions[true_label] += 1\n",
    "            correct_count += 1\n",
    "        else:\n",
    "            incorrect_predictions[true_label] += 1\n",
    "        all_count += 1\n",
    "\n",
    "print(\"Model Accuracy =\", (correct_count/all_count))\n",
    "print(\"Number of correct predictions for each class: \" + str(correct_predictions))\n",
    "print(\"Number of incorrect predictions for each class:\" + str(incorrect_predictions))"
   ],
   "metadata": {
    "collapsed": false
   }
  },
  {
   "cell_type": "markdown",
   "source": [
    "Visualisation of incorrect/correct predictions for each class"
   ],
   "metadata": {
    "collapsed": false
   }
  },
  {
   "cell_type": "code",
   "execution_count": 12,
   "outputs": [
    {
     "data": {
      "text/plain": "<Figure size 640x480 with 1 Axes>",
      "image/png": "[encoded data removed]"
     },
     "metadata": {},
     "output_type": "display_data"
    }
   ],
   "source": [
    "all_labels = range(10)\n",
    "\n",
    "plt.bar(all_labels, incorrect_predictions, bottom=correct_predictions, color='#557f2d', edgecolor='black', width=.3, label='incorrect')\n",
    "plt.bar(all_labels, correct_predictions, color='#2d7f5e', edgecolor='black', width=.3, label='correct')\n",
    "\n",
    "plt.xticks(all_labels, fontweight='bold')\n",
    "plt.xlabel(\"digit\")\n",
    "plt.legend()\n",
    "plt.show()"
   ],
   "metadata": {
    "collapsed": false
   }
  }
 ],
 "metadata": {
  "kernelspec": {
   "display_name": "Python 3",
   "language": "python",
   "name": "python3"
  },
  "language_info": {
   "codemirror_mode": {
    "name": "ipython",
    "version": 2
   },
   "file_extension": ".py",
   "mimetype": "text/x-python",
   "name": "python",
   "nbconvert_exporter": "python",
   "pygments_lexer": "ipython2",
   "version": "2.7.6"
  }
 },
 "nbformat": 4,
 "nbformat_minor": 0
}
